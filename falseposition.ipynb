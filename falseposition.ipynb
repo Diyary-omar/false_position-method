{
  "nbformat": 4,
  "nbformat_minor": 0,
  "metadata": {
    "colab": {
      "provenance": [],
      "authorship_tag": "ABX9TyM2cQ7rLg2xXpaUJb/NfZ+c",
      "include_colab_link": true
    },
    "kernelspec": {
      "name": "python3",
      "display_name": "Python 3"
    },
    "language_info": {
      "name": "python"
    }
  },
  "cells": [
    {
      "cell_type": "markdown",
      "metadata": {
        "id": "view-in-github",
        "colab_type": "text"
      },
      "source": [
        "<a href=\"https://colab.research.google.com/github/Diyary-omar/false_position-method/blob/main/falseposition.ipynb\" target=\"_parent\"><img src=\"https://colab.research.google.com/assets/colab-badge.svg\" alt=\"Open In Colab\"/></a>"
      ]
    },
    {
      "cell_type": "code",
      "execution_count": null,
      "metadata": {
        "id": "9yvWgIEC9ZTd"
      },
      "outputs": [],
      "source": [
        "def false_position_method(func, a, b, tolerance, max_iterations):\n",
        "\n",
        "    iteration = 1\n",
        "\n",
        "    while iteration <= max_iterations:\n",
        "\n",
        "        fa = func(a)\n",
        "        fb = func(b)\n",
        "\n",
        "        # Calculate by false position\n",
        "        c = (a * fb - b * fa) / (fb - fa)\n",
        "\n",
        "        # Calculate the function value at the new approximation\n",
        "        fc = func(c)\n",
        "\n",
        "        # Display intermediate results\n",
        "        print(f\"Iteration {iteration}:\")\n",
        "        print(f\"a = {a}, b = {b}, c = {c}\")\n",
        "        print(f\"f(a) = {fa}, f(b) = {fb}, f(c) = {fc}\")\n",
        "\n",
        "        # Check the tolerance\n",
        "        if abs(fc) < tolerance:\n",
        "            break\n",
        "\n",
        "        # Update the interval [a, b]\n",
        "        if fc * fa < 0:\n",
        "            b = c\n",
        "        else:\n",
        "            a = c\n",
        "\n",
        "        iteration += 1\n",
        "\n",
        "    return c, iteration\n",
        "\n",
        "\n",
        "def f(x):\n",
        "    return x**3 - 7*x**2 + 14*x - 6\n",
        "\n",
        "# Initial interval a,b,tol,iterate\n",
        "a = float(input(\"Enter first interval: \"))\n",
        "b = float(input(\"Enter second interval: \"))\n",
        "tolerance = float(input(\"Enter the tolerance: \"))\n",
        "max_iterations = int(input(\"Enter the maximum number of iterations: \"))\n",
        "\n",
        "# Perform False Position Method\n",
        "approximation, num_iterations = false_position_method(f, a, b, tolerance, max_iterations)\n",
        "\n",
        "# Display the final result\n",
        "print(\"\\nResult:\")\n",
        "print(\"Approximation:\", approximation)\n",
        "print(\"Number of iterations:\", num_iterations)\n"
      ]
    }
  ]
}