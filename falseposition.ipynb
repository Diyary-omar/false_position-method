{
  "nbformat": 4,
  "nbformat_minor": 0,
  "metadata": {
    "colab": {
      "provenance": [],
      "include_colab_link": true
    },
    "kernelspec": {
      "name": "python3",
      "display_name": "Python 3"
    },
    "language_info": {
      "name": "python"
    }
  },
  "cells": [
    {
      "cell_type": "markdown",
      "metadata": {
        "id": "view-in-github",
        "colab_type": "text"
      },
      "source": [
        "<a href=\"https://colab.research.google.com/github/Diyary-omar/false_position-method/blob/main/falseposition.ipynb\" target=\"_parent\"><img src=\"https://colab.research.google.com/assets/colab-badge.svg\" alt=\"Open In Colab\"/></a>"
      ]
    },
    {
      "cell_type": "code",
      "execution_count": 1,
      "metadata": {
        "id": "9yvWgIEC9ZTd",
        "outputId": "4877c56d-1ae9-40d9-ba16-9329a0934259",
        "colab": {
          "base_uri": "https://localhost:8080/"
        }
      },
      "outputs": [
        {
          "output_type": "stream",
          "name": "stdout",
          "text": [
            "Enter first interval: 1\n",
            "Enter second interval: 0\n",
            "Enter the tolerance: 0.001\n",
            "Enter the maximum number of iterations: 5\n",
            "Iteration 1:\n",
            "a = 1.0, b = 0.0, c = 0.75\n",
            "f(a) = 2.0, f(b) = -6.0, f(c) = 0.984375\n",
            "Iteration 2:\n",
            "a = 0.75, b = 0.0, c = 0.6442953020134228\n",
            "f(a) = 0.984375, f(b) = -6.0, f(c) = 0.3817767444419484\n",
            "Iteration 3:\n",
            "a = 0.6442953020134228, b = 0.0, c = 0.6057516530090676\n",
            "f(a) = 0.3817767444419484, f(b) = -6.0, f(c) = 0.13424920850980016\n",
            "Iteration 4:\n",
            "a = 0.6057516530090676, b = 0.0, c = 0.5924946630815707\n",
            "f(a) = 0.13424920850980016, f(b) = -6.0, f(c) = 0.045571010180899485\n",
            "Iteration 5:\n",
            "a = 0.5924946630815707, b = 0.0, c = 0.5880284877148519\n",
            "f(a) = 0.045571010180899485, f(b) = -6.0, f(c) = 0.015283333259464627\n",
            "\n",
            "Result:\n",
            "Approximation: 0.5880284877148519\n",
            "Number of iterations: 6\n"
          ]
        }
      ],
      "source": [
        "def false_position_method(func, a, b, tolerance, max_iterations):\n",
        "\n",
        "    iteration = 1\n",
        "\n",
        "    while iteration <= max_iterations:\n",
        "\n",
        "        fa = func(a)\n",
        "        fb = func(b)\n",
        "\n",
        "        # Calculate by false position\n",
        "        c = (a * fb - b * fa) / (fb - fa)\n",
        "\n",
        "        # Calculate the function value at the new approximation\n",
        "        fc = func(c)\n",
        "\n",
        "        # Display intermediate results\n",
        "        print(f\"Iteration {iteration}:\")\n",
        "        print(f\"a = {a}, b = {b}, c = {c}\")\n",
        "        print(f\"f(a) = {fa}, f(b) = {fb}, f(c) = {fc}\")\n",
        "\n",
        "        # Check the tolerance\n",
        "        if abs(fc) < tolerance:\n",
        "            break\n",
        "\n",
        "        # Update the interval [a, b]\n",
        "        if fc * fa < 0:\n",
        "            b = c\n",
        "        else:\n",
        "            a = c\n",
        "\n",
        "        iteration += 1\n",
        "\n",
        "    return c, iteration\n",
        "\n",
        "\n",
        "def f(x):\n",
        "    return x**3 - 7*x**2 + 14*x - 6\n",
        "\n",
        "# Initial interval a,b,tol,iterate\n",
        "a = float(input(\"Enter first interval: \"))\n",
        "b = float(input(\"Enter second interval: \"))\n",
        "tolerance = float(input(\"Enter the tolerance: \"))\n",
        "max_iterations = int(input(\"Enter the maximum number of iterations: \"))\n",
        "\n",
        "# Perform False Position Method\n",
        "approximation, num_iterations = false_position_method(f, a, b, tolerance, max_iterations)\n",
        "\n",
        "# Display the final result\n",
        "print(\"\\nResult:\")\n",
        "print(\"Approximation:\", approximation)\n",
        "print(\"Number of iterations:\", num_iterations)\n"
      ]
    }
  ]
}